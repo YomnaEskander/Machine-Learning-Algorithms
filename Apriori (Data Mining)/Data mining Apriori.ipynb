{
 "cells": [
  {
   "cell_type": "code",
   "execution_count": 30,
   "id": "e75c312f",
   "metadata": {},
   "outputs": [],
   "source": [
    "import numpy as np\n",
    "import matplotlib.pyplot as plt\n",
    "import pandas as pd\n",
    "from mlxtend.preprocessing import TransactionEncoder\n",
    "from mlxtend.frequent_patterns import apriori,association_rules\n"
   ]
  },
  {
   "cell_type": "code",
   "execution_count": 31,
   "id": "3adfc1fb",
   "metadata": {},
   "outputs": [],
   "source": [
    "records = [['a','b','e'],\n",
    "       ['a','b','c','e'],\n",
    "       ['a','b','d','e'],\n",
    "       ['a','c','d','e'],\n",
    "       ['b','c','e'],\n",
    "       ['b','d','e'],\n",
    "       ['c','d'],\n",
    "       ['a','b','c'],\n",
    "       ['a','d','e'],\n",
    "       ['a','b','e']]"
   ]
  },
  {
   "cell_type": "code",
   "execution_count": 35,
   "id": "4410bd0f",
   "metadata": {},
   "outputs": [],
   "source": [
    "te = TransactionEncoder()\n",
    "te_ary = te.fit(records).transform(records) #to transform the list above to transaction data"
   ]
  },
  {
   "cell_type": "code",
   "execution_count": 37,
   "id": "da0e500c",
   "metadata": {},
   "outputs": [
    {
     "data": {
      "text/html": [
       "<div>\n",
       "<style scoped>\n",
       "    .dataframe tbody tr th:only-of-type {\n",
       "        vertical-align: middle;\n",
       "    }\n",
       "\n",
       "    .dataframe tbody tr th {\n",
       "        vertical-align: top;\n",
       "    }\n",
       "\n",
       "    .dataframe thead th {\n",
       "        text-align: right;\n",
       "    }\n",
       "</style>\n",
       "<table border=\"1\" class=\"dataframe\">\n",
       "  <thead>\n",
       "    <tr style=\"text-align: right;\">\n",
       "      <th></th>\n",
       "      <th>a</th>\n",
       "      <th>b</th>\n",
       "      <th>c</th>\n",
       "      <th>d</th>\n",
       "      <th>e</th>\n",
       "    </tr>\n",
       "  </thead>\n",
       "  <tbody>\n",
       "    <tr>\n",
       "      <th>0</th>\n",
       "      <td>True</td>\n",
       "      <td>True</td>\n",
       "      <td>False</td>\n",
       "      <td>False</td>\n",
       "      <td>True</td>\n",
       "    </tr>\n",
       "    <tr>\n",
       "      <th>1</th>\n",
       "      <td>True</td>\n",
       "      <td>True</td>\n",
       "      <td>True</td>\n",
       "      <td>False</td>\n",
       "      <td>True</td>\n",
       "    </tr>\n",
       "    <tr>\n",
       "      <th>2</th>\n",
       "      <td>True</td>\n",
       "      <td>True</td>\n",
       "      <td>False</td>\n",
       "      <td>True</td>\n",
       "      <td>True</td>\n",
       "    </tr>\n",
       "    <tr>\n",
       "      <th>3</th>\n",
       "      <td>True</td>\n",
       "      <td>False</td>\n",
       "      <td>True</td>\n",
       "      <td>True</td>\n",
       "      <td>True</td>\n",
       "    </tr>\n",
       "    <tr>\n",
       "      <th>4</th>\n",
       "      <td>False</td>\n",
       "      <td>True</td>\n",
       "      <td>True</td>\n",
       "      <td>False</td>\n",
       "      <td>True</td>\n",
       "    </tr>\n",
       "    <tr>\n",
       "      <th>5</th>\n",
       "      <td>False</td>\n",
       "      <td>True</td>\n",
       "      <td>False</td>\n",
       "      <td>True</td>\n",
       "      <td>True</td>\n",
       "    </tr>\n",
       "    <tr>\n",
       "      <th>6</th>\n",
       "      <td>False</td>\n",
       "      <td>False</td>\n",
       "      <td>True</td>\n",
       "      <td>True</td>\n",
       "      <td>False</td>\n",
       "    </tr>\n",
       "    <tr>\n",
       "      <th>7</th>\n",
       "      <td>True</td>\n",
       "      <td>True</td>\n",
       "      <td>True</td>\n",
       "      <td>False</td>\n",
       "      <td>False</td>\n",
       "    </tr>\n",
       "    <tr>\n",
       "      <th>8</th>\n",
       "      <td>True</td>\n",
       "      <td>False</td>\n",
       "      <td>False</td>\n",
       "      <td>True</td>\n",
       "      <td>True</td>\n",
       "    </tr>\n",
       "    <tr>\n",
       "      <th>9</th>\n",
       "      <td>True</td>\n",
       "      <td>True</td>\n",
       "      <td>False</td>\n",
       "      <td>False</td>\n",
       "      <td>True</td>\n",
       "    </tr>\n",
       "  </tbody>\n",
       "</table>\n",
       "</div>"
      ],
      "text/plain": [
       "       a      b      c      d      e\n",
       "0   True   True  False  False   True\n",
       "1   True   True   True  False   True\n",
       "2   True   True  False   True   True\n",
       "3   True  False   True   True   True\n",
       "4  False   True   True  False   True\n",
       "5  False   True  False   True   True\n",
       "6  False  False   True   True  False\n",
       "7   True   True   True  False  False\n",
       "8   True  False  False   True   True\n",
       "9   True   True  False  False   True"
      ]
     },
     "execution_count": 37,
     "metadata": {},
     "output_type": "execute_result"
    }
   ],
   "source": [
    "data = pd.DataFrame(te_ary, columns=te.columns_)\n",
    "data #to view the data"
   ]
  },
  {
   "cell_type": "code",
   "execution_count": 39,
   "id": "c121c390",
   "metadata": {},
   "outputs": [
    {
     "name": "stdout",
     "output_type": "stream",
     "text": [
      "  antecedents consequents  antecedent support  consequent support  support  \\\n",
      "2         (a)         (e)                 0.7                 0.8      0.6   \n",
      "4         (b)         (e)                 0.7                 0.8      0.6   \n",
      "3         (e)         (a)                 0.8                 0.7      0.6   \n",
      "5         (e)         (b)                 0.8                 0.7      0.6   \n",
      "0         (b)         (a)                 0.7                 0.7      0.5   \n",
      "\n",
      "   confidence      lift  leverage  conviction  \n",
      "2    0.857143  1.071429      0.04        1.40  \n",
      "4    0.857143  1.071429      0.04        1.40  \n",
      "3    0.750000  1.071429      0.04        1.20  \n",
      "5    0.750000  1.071429      0.04        1.20  \n",
      "0    0.714286  1.020408      0.01        1.05  \n"
     ]
    }
   ],
   "source": [
    "frq_items= apriori(data,min_support=0.5,use_colnames=True)\n",
    "rules = association_rules(frq_items, metric =\"lift\", min_threshold = 1)\n",
    "rules = rules.sort_values(['confidence', 'lift'], ascending =[False, False])\n",
    "print(rules.head())"
   ]
  },
  {
   "cell_type": "code",
   "execution_count": null,
   "id": "db056317",
   "metadata": {},
   "outputs": [],
   "source": []
  }
 ],
 "metadata": {
  "kernelspec": {
   "display_name": "Python 3 (ipykernel)",
   "language": "python",
   "name": "python3"
  },
  "language_info": {
   "codemirror_mode": {
    "name": "ipython",
    "version": 3
   },
   "file_extension": ".py",
   "mimetype": "text/x-python",
   "name": "python",
   "nbconvert_exporter": "python",
   "pygments_lexer": "ipython3",
   "version": "3.9.13"
  }
 },
 "nbformat": 4,
 "nbformat_minor": 5
}
